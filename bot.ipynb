{
 "cells": [
  {
   "attachments": {},
   "cell_type": "markdown",
   "metadata": {},
   "source": [
    "## Binance Trading Bot in Python\n",
    "\n",
    "The following Python script implements a mean reversion trading strategy to make profitable trades. A live price stream is fed in through the Binance WebSocket API which is stored in a continuously updated dataframe.\n",
    "\n",
    "The script place a market buy order if the latest price (``last_price``) is above the n-second Simple Moving Average (SMA). Once it has an open position, it will place a market sell order if the latest price indicates a profit of ``target_profit`` or a loss of ``stop_loss``."
   ]
  },
  {
   "cell_type": "code",
   "execution_count": null,
   "metadata": {},
   "outputs": [],
   "source": [
    "%run ./../../.api_keys/binance_key.ipynb # import API key and secret"
   ]
  },
  {
   "cell_type": "code",
   "execution_count": null,
   "metadata": {},
   "outputs": [],
   "source": [
    "from binance import Client\n",
    "import websocket\n",
    "import json\n",
    "import pandas as pd"
   ]
  },
  {
   "cell_type": "code",
   "execution_count": null,
   "metadata": {},
   "outputs": [],
   "source": [
    "client = Client(api_key, api_secret)"
   ]
  },
  {
   "cell_type": "code",
   "execution_count": null,
   "metadata": {},
   "outputs": [],
   "source": [
    "endpoint = 'wss://stream.binance.us:9443/ws' # Binance WebSocket API endpoint"
   ]
  },
  {
   "cell_type": "code",
   "execution_count": null,
   "metadata": {},
   "outputs": [],
   "source": [
    "ticker = 'BTCUSDT'\n",
    "our_msg = json.dumps({'method': 'SUBSCRIBE',\n",
    "                      'params': [ticker.lower() + '@ticker'], 'id':1})"
   ]
  },
  {
   "cell_type": "code",
   "execution_count": null,
   "metadata": {},
   "outputs": [],
   "source": [
    "# Initialise state variables\n",
    "df = pd.DataFrame()\n",
    "in_position = False\n",
    "\n",
    "trade_amt = 25 # Initial trading amount, in this case, 25 USDT\n",
    "target_profit = 0.002 # Targetted profit for exiting position\n",
    "stop_loss = 0.002 # Stop loss for exiting position\n",
    "\n",
    "def on_open(ws):\n",
    "    ws.send(our_msg) # request ticker from server\n",
    "\n",
    "def on_message(ws, message):\n",
    "    global df, in_position, order_qty, buy_price\n",
    "    n = 15\n",
    "    out = json.loads(message)\n",
    "    out = pd.DataFrame({'price':float(out['c'])}, index=[pd.to_datetime(out['E'], unit='ms')])\n",
    "    df = pd.concat([df,out], axis=0)\n",
    "    print(df)\n",
    "    df = df.tail(n) # keep the latest n rows of data\n",
    "    last_price = df.tail(1).price.values[0] # last row from data stream\n",
    "    sma = df.price.rolling(n).mean().tail(1).values[0] # calculate the n-second SMA\n",
    "\n",
    "    if not in_position and last_price > sma:\n",
    "        order = client.create_order(symbol=ticker, side='BUY', type='MARKET', quoteOrderQty=trade_amt)\n",
    "        order_qty = float(order['executedQty'])\n",
    "        buy_price = float(order['fills'][0]['price'])\n",
    "        in_position = True\n",
    "        print(order)\n",
    "    if in_position and (last_price > buy_price * (1 + target_profit) or last_price < buy_price * (1 - stop_loss)):\n",
    "        order = client.create_order(symbol=ticker, side='SELL', type='MARKET', quantity=order_qty)\n",
    "        in_position = False\n",
    "        print(order)"
   ]
  },
  {
   "cell_type": "code",
   "execution_count": null,
   "metadata": {},
   "outputs": [],
   "source": [
    "ws = websocket.WebSocketApp(endpoint, on_message=on_message, on_open=on_open)\n",
    "ws.run_forever() # Run trading bot indefinitely"
   ]
  }
 ],
 "metadata": {
  "kernelspec": {
   "display_name": "Python 3",
   "language": "python",
   "name": "python3"
  },
  "language_info": {
   "codemirror_mode": {
    "name": "ipython",
    "version": 3
   },
   "file_extension": ".py",
   "mimetype": "text/x-python",
   "name": "python",
   "nbconvert_exporter": "python",
   "pygments_lexer": "ipython3",
   "version": "3.11.2"
  },
  "orig_nbformat": 4
 },
 "nbformat": 4,
 "nbformat_minor": 2
}
